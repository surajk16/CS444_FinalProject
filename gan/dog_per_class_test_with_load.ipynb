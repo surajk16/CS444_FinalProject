{
 "cells": [
  {
   "cell_type": "code",
   "execution_count": 1,
   "id": "d66877aa-d4af-4284-be54-e60cd48e2c75",
   "metadata": {
    "tags": []
   },
   "outputs": [],
   "source": [
    "import torch\n",
    "from torch.utils.data import DataLoader, Subset\n",
    "from torchvision import transforms\n",
    "from torchvision.datasets import ImageFolder\n",
    "\n",
    "from PIL import Image\n",
    "import matplotlib.pyplot as plt\n",
    "import numpy as np\n",
    "import argparse\n",
    "import os\n",
    "from datetime import datetime\n",
    "\n",
    "from gan.train import train\n",
    "from gan.losses import discriminator_loss, generator_loss\n",
    "from gan.models import Discriminator, Generator\n",
    "from gan.utils import sample_noise, deprocess_img, show_images\n",
    "\n",
    "%load_ext autoreload\n",
    "%autoreload 2"
   ]
  },
  {
   "cell_type": "code",
   "execution_count": 8,
   "id": "fcbd7a01-9734-4c01-9251-63895933013a",
   "metadata": {
    "tags": []
   },
   "outputs": [],
   "source": [
    "latent_dim = 50\n",
    "imsize = 128\n",
    "device = torch.device(\"cuda\" if torch.cuda.is_available() else \"gpu\")\n",
    "\n",
    "iter_no = 17325\n",
    "model_load_path = \"checkpoints_/2023-04-13 13:07:02.992796/{}/iter_{}.pth\"\n",
    "\n",
    "G = Generator(noise_dim=latent_dim, imsize=imsize).to(device)\n",
    "G.load_state_dict(torch.load(model_load_path.format(\"generator\", iter_no)))\n",
    "\n",
    "result_dir = \"./results/test/\"\n",
    "\n",
    "num_images = 1024\n",
    "\n",
    "for i in range(num_images):\n",
    "    noise = sample_noise(128, latent_dim).reshape(128, latent_dim, 1, 1).to(device)\n",
    "    fake_image = G(noise).reshape(128, 3, imsize, imsize)\n",
    "    disp_fake_image = deprocess_img(fake_image.data)\n",
    "    img = (disp_fake_image).cpu().numpy()\n",
    "    \n",
    "    # show_images(img, color=True)\n",
    "    \n",
    "    img = img[0, :, :, :]\n",
    "    \n",
    "    # img = np.squeeze(img, axis=0)\n",
    "    img = np.swapaxes(np.swapaxes(img, 0, 1), 1, 2)\n",
    "\n",
    "    im = Image.fromarray((img * 255).astype(np.uint8))\n",
    "    im.save(result_dir + \"generated/{}.png\".format(i))"
   ]
  },
  {
   "cell_type": "code",
   "execution_count": null,
   "id": "c986b7b9-7cf8-4583-8a08-021a0f0ec69b",
   "metadata": {},
   "outputs": [],
   "source": []
  }
 ],
 "metadata": {
  "kernelspec": {
   "display_name": "Python 3 (ipykernel)",
   "language": "python",
   "name": "python3"
  },
  "language_info": {
   "codemirror_mode": {
    "name": "ipython",
    "version": 3
   },
   "file_extension": ".py",
   "mimetype": "text/x-python",
   "name": "python",
   "nbconvert_exporter": "python",
   "pygments_lexer": "ipython3",
   "version": "3.8.16"
  }
 },
 "nbformat": 4,
 "nbformat_minor": 5
}
